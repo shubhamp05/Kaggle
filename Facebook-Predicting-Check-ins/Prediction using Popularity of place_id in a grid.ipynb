{
 "cells": [
  {
   "cell_type": "markdown",
   "metadata": {},
   "source": [
    "### This is a problem posted on Kaggle.com (https://www.kaggle.com/c/facebook-v-predicting-check-ins) in which we have to predict about future check-ins based on train data, the main challenge is data is very large to train by any classifier such as randomforest, boosting or any other ensemble technique got failed due to memory leak issue, so I have devised a simple solution which gives me 0.45 accuracy over this dataset. \n",
    "\n",
    "### My solution is divide the dataset into squares of 800 and then find 3 most popular businesses in that square and then predict based on this popularity, one can see from the code that Prep_xy() function prepares the x,y for 800 square grids and grid_sorted will sort the geological x,y according to most popular businessee in that area. Although this solution is very basic but it gives me a head start to work on this problem. The columns like x,y,time and accuracy were very vaguely defined in this problem so I have to try and hit every possible solution I come across."
   ]
  },
  {
   "cell_type": "code",
   "execution_count": 15,
   "metadata": {
    "collapsed": true
   },
   "outputs": [],
   "source": [
    "import datetime\n",
    "from heapq import nlargest\n",
    "from operator import itemgetter\n",
    "import os\n",
    "import time\n",
    "import math\n",
    "from collections import defaultdict\n",
    "import pandas as pd"
   ]
  },
  {
   "cell_type": "code",
   "execution_count": 3,
   "metadata": {
    "collapsed": true
   },
   "outputs": [],
   "source": [
    "train = pd.read_csv('train.csv/train.csv')"
   ]
  },
  {
   "cell_type": "code",
   "execution_count": 4,
   "metadata": {
    "collapsed": false
   },
   "outputs": [
    {
     "data": {
      "text/html": [
       "<div>\n",
       "<table border=\"1\" class=\"dataframe\">\n",
       "  <thead>\n",
       "    <tr style=\"text-align: right;\">\n",
       "      <th></th>\n",
       "      <th>row_id</th>\n",
       "      <th>x</th>\n",
       "      <th>y</th>\n",
       "      <th>accuracy</th>\n",
       "      <th>time</th>\n",
       "      <th>place_id</th>\n",
       "    </tr>\n",
       "  </thead>\n",
       "  <tbody>\n",
       "    <tr>\n",
       "      <th>0</th>\n",
       "      <td>0</td>\n",
       "      <td>0.7941</td>\n",
       "      <td>9.0809</td>\n",
       "      <td>54</td>\n",
       "      <td>470702</td>\n",
       "      <td>8523065625</td>\n",
       "    </tr>\n",
       "    <tr>\n",
       "      <th>1</th>\n",
       "      <td>1</td>\n",
       "      <td>5.9567</td>\n",
       "      <td>4.7968</td>\n",
       "      <td>13</td>\n",
       "      <td>186555</td>\n",
       "      <td>1757726713</td>\n",
       "    </tr>\n",
       "    <tr>\n",
       "      <th>2</th>\n",
       "      <td>2</td>\n",
       "      <td>8.3078</td>\n",
       "      <td>7.0407</td>\n",
       "      <td>74</td>\n",
       "      <td>322648</td>\n",
       "      <td>1137537235</td>\n",
       "    </tr>\n",
       "    <tr>\n",
       "      <th>3</th>\n",
       "      <td>3</td>\n",
       "      <td>7.3665</td>\n",
       "      <td>2.5165</td>\n",
       "      <td>65</td>\n",
       "      <td>704587</td>\n",
       "      <td>6567393236</td>\n",
       "    </tr>\n",
       "    <tr>\n",
       "      <th>4</th>\n",
       "      <td>4</td>\n",
       "      <td>4.0961</td>\n",
       "      <td>1.1307</td>\n",
       "      <td>31</td>\n",
       "      <td>472130</td>\n",
       "      <td>7440663949</td>\n",
       "    </tr>\n",
       "  </tbody>\n",
       "</table>\n",
       "</div>"
      ],
      "text/plain": [
       "   row_id       x       y  accuracy    time    place_id\n",
       "0       0  0.7941  9.0809        54  470702  8523065625\n",
       "1       1  5.9567  4.7968        13  186555  1757726713\n",
       "2       2  8.3078  7.0407        74  322648  1137537235\n",
       "3       3  7.3665  2.5165        65  704587  6567393236\n",
       "4       4  4.0961  1.1307        31  472130  7440663949"
      ]
     },
     "execution_count": 4,
     "metadata": {},
     "output_type": "execute_result"
    }
   ],
   "source": [
    "train.head()"
   ]
  },
  {
   "cell_type": "code",
   "execution_count": 30,
   "metadata": {
    "collapsed": false
   },
   "outputs": [],
   "source": [
    "def prep_xy(x, y):\n",
    "    range = 800\n",
    "    ix = math.floor(range*x/10)\n",
    "    if ix < 0:\n",
    "        ix = 0\n",
    "    if ix >= range:\n",
    "        ix = range-1\n",
    "\n",
    "    iy = math.floor(range*y/10)\n",
    "    if iy < 0:\n",
    "        iy = 0\n",
    "    if iy >= range:\n",
    "        iy = range-1\n",
    "\n",
    "    return ix, iy"
   ]
  },
  {
   "cell_type": "code",
   "execution_count": 64,
   "metadata": {
    "collapsed": false
   },
   "outputs": [
    {
     "name": "stdout",
     "output_type": "stream",
     "text": [
      "Preparing data...\n",
      "Generate submission...\n",
      "Elapsed time overall: 469.898797750473 seconds\n"
     ]
    }
   ],
   "source": [
    "def run_solution():\n",
    "    print('Preparing data...')\n",
    "    f = open(\"train.csv/train.csv\", \"r\")\n",
    "    f.readline()\n",
    "    total = 0\n",
    "\n",
    "    grid = defaultdict(lambda: defaultdict(int))\n",
    "    grid_sorted = dict()\n",
    "\n",
    "    # Calc counts\n",
    "    while 1:\n",
    "        line = f.readline().strip()\n",
    "        total += 1\n",
    "\n",
    "        if line == '':\n",
    "            break\n",
    "\n",
    "        arr = line.split(\",\")\n",
    "        row_id = arr[0]\n",
    "        x = float(arr[1])\n",
    "        y = float(arr[2])\n",
    "        accuracy = arr[3]\n",
    "        time = arr[4]\n",
    "        place_id = arr[5]\n",
    "\n",
    "        ix, iy = prep_xy(x, y)\n",
    "\n",
    "        grid[(ix, iy)][place_id] += 1\n",
    "\n",
    "    f.close()\n",
    "\n",
    "    # Sort array\n",
    "    for el in grid:\n",
    "        grid_sorted[el] = nlargest(3, sorted(grid[el].items()), key=itemgetter(1))\n",
    "\n",
    "    print('Generate submission...')\n",
    "    sub_file = os.path.join('submission_' + str(datetime.datetime.now().strftime(\"%Y-%m-%d-%H-%M\")) + '.csv')\n",
    "    out = open(sub_file, \"w\")\n",
    "    f = open(\"test.csv/test.csv\", \"r\")\n",
    "    f.readline()\n",
    "    total = 0\n",
    "    out.write(\"row_id,place_id\\n\")\n",
    "\n",
    "    while 1:\n",
    "        line = f.readline().strip()\n",
    "        total += 1\n",
    "\n",
    "        if line == '':\n",
    "            break\n",
    "\n",
    "        arr = line.split(\",\")\n",
    "        row_id = arr[0]\n",
    "        x = float(arr[1])\n",
    "        y = float(arr[2])\n",
    "        accuracy = arr[3]\n",
    "        time = arr[4]\n",
    "\n",
    "        out.write(str(row_id) + ',')\n",
    "        filled = []\n",
    "\n",
    "        ix, iy = prep_xy(x, y)\n",
    "\n",
    "        s1 = (ix, iy)\n",
    "        if s1 in grid_sorted:\n",
    "            topitems = grid_sorted[s1]\n",
    "            for i in range(len(topitems)):\n",
    "                if topitems[i][0] in filled:\n",
    "                    continue\n",
    "                if len(filled) == 3:\n",
    "                    break\n",
    "                out.write(' ' + topitems[i][0])\n",
    "                filled.append(topitems[i][0])\n",
    "\n",
    "        out.write(\"\\n\")\n",
    "\n",
    "    out.close()\n",
    "    f.close()\n",
    "\n",
    "\n",
    "start_time = time.time()\n",
    "run_solution()\n",
    "print(\"Elapsed time overall: %s seconds\" % (time.time() - start_time))"
   ]
  },
  {
   "cell_type": "markdown",
   "metadata": {},
   "source": [
    "### My solution of adding other time features"
   ]
  },
  {
   "cell_type": "code",
   "execution_count": null,
   "metadata": {
    "collapsed": true
   },
   "outputs": [],
   "source": []
  }
 ],
 "metadata": {
  "kernelspec": {
   "display_name": "Python 3",
   "language": "python",
   "name": "python3"
  },
  "language_info": {
   "codemirror_mode": {
    "name": "ipython",
    "version": 3
   },
   "file_extension": ".py",
   "mimetype": "text/x-python",
   "name": "python",
   "nbconvert_exporter": "python",
   "pygments_lexer": "ipython3",
   "version": "3.5.1"
  }
 },
 "nbformat": 4,
 "nbformat_minor": 0
}
