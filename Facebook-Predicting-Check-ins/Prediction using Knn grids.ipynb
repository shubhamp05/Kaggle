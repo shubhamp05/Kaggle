{
 "cells": [
  {
   "cell_type": "code",
   "execution_count": 1,
   "metadata": {
    "collapsed": false
   },
   "outputs": [
    {
     "name": "stderr",
     "output_type": "stream",
     "text": [
      "C:\\Users\\Nishu\\Anaconda3\\lib\\site-packages\\sklearn\\utils\\fixes.py:64: DeprecationWarning: inspect.getargspec() is deprecated, use inspect.signature() instead\n",
      "  if 'order' in inspect.getargspec(np.copy)[0]:\n"
     ]
    }
   ],
   "source": [
    "import pandas as pd\n",
    "import numpy as np\n",
    "import datetime\n",
    "from sklearn.neighbors import KNeighborsClassifier\n",
    "from sklearn.preprocessing import LabelEncoder"
   ]
  },
  {
   "cell_type": "code",
   "execution_count": 2,
   "metadata": {
    "collapsed": true
   },
   "outputs": [],
   "source": [
    "train = pd.read_csv('train.csv/train.csv')\n",
    "test = pd.read_csv('test.csv/test.csv')"
   ]
  },
  {
   "cell_type": "code",
   "execution_count": 5,
   "metadata": {
    "collapsed": false
   },
   "outputs": [],
   "source": [
    "def prepare_data(df,n_cell_x,n_cell_y):\n",
    "    size_x = 10. / n_cell_x\n",
    "    size_y = 10. / n_cell_y\n",
    "    eps = 0.00001\n",
    "    \n",
    "    ix = np.where(df.x.values < eps, 0, df.x.values - eps)\n",
    "    iy = np.where(df.y.values < eps, 0, df.y.values - eps)\n",
    "    \n",
    "    pos_x = (ix / size_x).astype(int)\n",
    "    pos_y = (iy / size_y).astype(int)\n",
    "    \n",
    "    df['grid_cell'] = pos_y * n_cell_x + pos_x\n",
    "    \n",
    "    ##This way we have created another column as grid_cell in our original train&test dataset\n",
    "    initial_date = np.datetime64('2013-01-01T00:00',dtype = 'datetime64[m]')\n",
    "    d_time = pd.DatetimeIndex(initial_date + np.timedelta64(int(m),'m') for m in df.time.values)\n",
    "    \n",
    "    ##Now extract all components of time from datetime index as save it as a new column in train & test data-set\n",
    "    \n",
    "    df['hour'] = d_time.hour\n",
    "    df['minute'] = d_time.minute\n",
    "    df['second'] = d_time.second\n",
    "    df['year'] = d_time.year\n",
    "    df['week'] = d_time.week\n",
    "    df['weekofyear'] = d_time.weekofyear\n",
    "    df['weekday'] = d_time.weekday\n",
    "    \n",
    "    ##Remove the time variable as feature generation from time is already done\n",
    "    df.drop('time',axis=1,inplace=True)\n",
    "    \n",
    "    return(df) "
   ]
  },
  {
   "cell_type": "code",
   "execution_count": 6,
   "metadata": {
    "collapsed": true
   },
   "outputs": [],
   "source": [
    "def prepare_grid(df_train,df_test,gid):\n",
    "    df_train=df_train.loc[df_train.grid_cell == gid]\n",
    "    df_test=df_test.loc[df_test.grid_cell == gid]\n",
    "    row_ids = df_test.row_id.values\n",
    "    le = LabelEncoder()\n",
    "    y = le.fit_transform(df_train.place_id.values)\n",
    "        \n",
    "    clf = KNeighborsClassifier(n_neighbors=15,metric = 'manhattan', weights='distance')\n",
    "        \n",
    "    df_train.drop(['place_id','grid_cell'],axis=1,inplace=True)\n",
    "    df_test.drop(['grid_cell'], axis=1,inplace=True)\n",
    "        \n",
    "    clf.fit(df_train,y)\n",
    "        \n",
    "    preds = clf.predict_proba(df_test)\n",
    "        \n",
    "    labels = le.inverse_transform(np.argsort(preds,axis=1)[:,::-1][:,:3])\n",
    "        \n",
    "    return(labels,row_ids)        "
   ]
  },
  {
   "cell_type": "code",
   "execution_count": 7,
   "metadata": {
    "collapsed": true
   },
   "outputs": [],
   "source": [
    "def process_grids(train,test):\n",
    "    n_cell_x = 20\n",
    "    n_cell_y = 40\n",
    "    \n",
    "    train=prepare_data(train,n_cell_x,n_cell_y)\n",
    "    test=prepare_data(test,n_cell_x,n_cell_y)\n",
    "    \n",
    "    prediction = np.zeros((test.shape[0],3),dtype=int)\n",
    "    \n",
    "    labels,row_ids = prepare_grid(train,test,100)\n",
    "    prediction[row_ids] = labels\n",
    "    \n",
    "    temp = pd.DataFrame(prediction,dtype=str, columns=['id0', 'id1','id2'])\n",
    "    result = temp.id0.str.cat([temp.id1,temp.id2],sep = \" \")\n",
    "    \n",
    "    result.name = 'place_id'\n",
    "    \n",
    "    result.to_csv('submit_knn_grid01.csv', index_label= 'row_id', index = True, header = True)  "
   ]
  },
  {
   "cell_type": "code",
   "execution_count": 8,
   "metadata": {
    "collapsed": false
   },
   "outputs": [
    {
     "name": "stderr",
     "output_type": "stream",
     "text": [
      "C:\\Users\\Nishu\\Anaconda3\\lib\\site-packages\\ipykernel\\__main__.py:10: SettingWithCopyWarning: \n",
      "A value is trying to be set on a copy of a slice from a DataFrame\n",
      "\n",
      "See the caveats in the documentation: http://pandas.pydata.org/pandas-docs/stable/indexing.html#indexing-view-versus-copy\n",
      "C:\\Users\\Nishu\\Anaconda3\\lib\\site-packages\\ipykernel\\__main__.py:11: SettingWithCopyWarning: \n",
      "A value is trying to be set on a copy of a slice from a DataFrame\n",
      "\n",
      "See the caveats in the documentation: http://pandas.pydata.org/pandas-docs/stable/indexing.html#indexing-view-versus-copy\n"
     ]
    }
   ],
   "source": [
    "process_grids(train,test)"
   ]
  },
  {
   "cell_type": "code",
   "execution_count": null,
   "metadata": {
    "collapsed": true
   },
   "outputs": [],
   "source": [
    "# In-efficient way of computing the predictions\n",
    "c=0\n",
    "for gid in train.grid_cell.values:\n",
    "    df_train = train.loc[train.grid_cell == gid,:]\n",
    "    df_test  = test.loc[test.grid_cell == gid,:]\n",
    "    le = LabelEncoder()\n",
    "    list[c] = pd.DataFrame(columns=['row_id','place_id'])\n",
    "    list[c]['row_id'] = df_test.row_id.values\n",
    "    y = le.fit_transform(df_train.place_id.values)\n",
    "    df_train.drop(['place_id','grid_cell'],axis=1,inplace=True)\n",
    "    df_test.drop('grid_cell',axis=1,inplace=True)\n",
    "\n",
    "    clf = KNeighborsClassifier(n_neighbors=10,weights='distance',metric = 'euclidean')\n",
    "\n",
    "    clf.fit(df_train,y)\n",
    "    preds = clf.predict_proba(df_test)\n",
    "    d = 0\n",
    "    for m in preds:\n",
    "        a = np.argsort(m)[::-1][0:3]\n",
    "        \n",
    "        tgt = le.inverse_transform(y)\n",
    "        \n",
    "        tgt_place_id = np.take(tgt,[a[0],a[1],a[2]])\n",
    "        \n",
    "        list[c].loc[d,'place_id'] = str(tgt_place_id[0]) + \" \" + str(tgt_place_id[1]) + \" \" + str(tgt_place_id[2])\n",
    "        d  = d+1\n",
    "        c  = c+1"
   ]
  }
 ],
 "metadata": {
  "kernelspec": {
   "display_name": "Python 3",
   "language": "python",
   "name": "python3"
  },
  "language_info": {
   "codemirror_mode": {
    "name": "ipython",
    "version": 3
   },
   "file_extension": ".py",
   "mimetype": "text/x-python",
   "name": "python",
   "nbconvert_exporter": "python",
   "pygments_lexer": "ipython3",
   "version": "3.5.1"
  }
 },
 "nbformat": 4,
 "nbformat_minor": 0
}
