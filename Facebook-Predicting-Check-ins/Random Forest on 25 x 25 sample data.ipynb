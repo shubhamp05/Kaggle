{
 "cells": [
  {
   "cell_type": "code",
   "execution_count": 1,
   "metadata": {
    "collapsed": true
   },
   "outputs": [],
   "source": [
    "def feature_add(df):\n",
    "\n",
    "    ## Adding timefeatuture because these features shows important predictive power on a 25 x 20 sample grid\n",
    "    df['hour'] = df['time'] / 60 // 24\n",
    "    df['weekday'] = df['time'] / (24*60) // 7\n",
    "    df['month'] = df['time'] / (60*24*30) // 12\n",
    "    df['year'] = df['time'] / (60*24*365)\n",
    "    df['day'] = df['time'] * (60*24) //365\n",
    "    \n",
    "    df.drop(['time'],axis = 1, inplace = True)\n",
    "    print(\"Adding additional features by exploiting time variable\")\n",
    "    \n",
    "    return(df)"
   ]
  },
  {
   "cell_type": "code",
   "execution_count": 2,
   "metadata": {
    "collapsed": false
   },
   "outputs": [],
   "source": [
    "def grid_cells(df):\n",
    "    # No of cells in X & Y direction\n",
    "    n_cell_x = 20\n",
    "    n_cell_y = 40\n",
    "    \n",
    "    ## Calculating the pieces of X & Y\n",
    "    size_x = 10. / n_cell_x\n",
    "    size_y = 10. / n_cell_y\n",
    "    \n",
    "    pos_x = (df.x.values / size_x).astype(int)\n",
    "    pos_y = (df.y.values / size_y).astype(int)\n",
    "    \n",
    "    ## Calculating the grid no on 800 grid of cells\n",
    "    df['grid_cell'] = pos_y * n_cell_x + pos_x\n",
    "    \n",
    "    print(\" The grid_cell column has been added in:\")\n",
    "    return(df)"
   ]
  },
  {
   "cell_type": "code",
   "execution_count": 12,
   "metadata": {
    "collapsed": true
   },
   "outputs": [],
   "source": [
    "def process_grids(df_train, df_test, gid):\n",
    "    \n",
    "    ## Subsetting train and test on the grid_id\n",
    "    \n",
    "    df_train.loc[df_train.grid_cell.values == gid]\n",
    "    df_test.loc[df_test.grid_cell.values == gid]\n",
    "    \n",
    "    row_id = df_test.row_id.values\n",
    "    df_train.drop(['grid_cell','row_id'],axis = 1,inplace = True)\n",
    "    df_test.drop(['grid_cell','row_id'], axis = 1, inplace = True)\n",
    "    \n",
    "    ## Applying random forest on this subsetted train data\n",
    "    \n",
    "    rfc = RandomForestClassifier(n_estimators=10)\n",
    "    le = LabelEncoder()\n",
    "    \n",
    "    y = le.fit_transform(df_train.place_id.values)\n",
    "    df_train.drop('place_id', axis = 1, inplace = True)\n",
    "    \n",
    "    rfc.fit(df_train,y)\n",
    "    \n",
    "    prediction = le.inverse_transform(np.argsort(rfc.predict_proba(df_test),axis = 1)[:,::-1][:,0:3])\n",
    "    \n",
    "    print(\" Process of grid no: \", gid, \"is complete, returning predictions to function\")\n",
    "    \n",
    "    return(prediction,row_id)"
   ]
  },
  {
   "cell_type": "code",
   "execution_count": 10,
   "metadata": {
    "collapsed": true
   },
   "outputs": [],
   "source": [
    "import numpy as np\n",
    "from sklearn.neighbors import KNeighborsClassifier\n",
    "from sklearn.preprocessing import LabelEncoder\n",
    "from sklearn.ensemble import RandomForestClassifier\n",
    "from sklearn.cross_validation import train_test_split\n",
    "import pandas as pd\n",
    "\n",
    "def submission():\n",
    "    ## Reading train & test csv files from input location\n",
    "    train = pd.read_csv('train.csv/train.csv')\n",
    "    test = pd.read_csv('test.csv/test.csv')\n",
    "    \n",
    "    preds = np.zeros((test.shape[0],3),dtype=int)\n",
    "    ## Calling feature add function\n",
    "    train = feature_add(train)\n",
    "    test = feature_add(test)\n",
    "    \n",
    "    ## Calling grid cell function to make grids\n",
    "    train = grid_cells(train)\n",
    "    test = grid_cells(test)\n",
    "    \n",
    "    ## calling process_grids function to process each grid\n",
    "    \n",
    "    n_cell_x = 20\n",
    "    n_cell_y = 40\n",
    "    for grid in range((n_cell_x * n_cell_y)):\n",
    "        \n",
    "        prediction,row_id = process_grids(train,test,grid)\n",
    "        \n",
    "        preds[row_id] = prediction\n",
    "        \n",
    "    df_temp = pd.DataFrame(preds, columns=['l1','l2','l3'],dtype=str)\n",
    "    \n",
    "    submission = df_temp.l1.str.cat([df_temp.l2,df_temp.l3],sep = \" \")\n",
    "    \n",
    "    ## Writing to csv\n",
    "    print(\"Writing to csv file...Please wait....\")\n",
    "    submission.name = 'place_id'\n",
    "    \n",
    "    submission.to_csv('submit_23june_01.csv',index = True, header = True, index_label = 'row_id')"
   ]
  },
  {
   "cell_type": "code",
   "execution_count": null,
   "metadata": {
    "collapsed": false
   },
   "outputs": [],
   "source": [
    "submission() ##produce the csv file"
   ]
  }
 ],
 "metadata": {
  "kernelspec": {
   "display_name": "Python 2",
   "language": "python",
   "name": "python2"
  },
  "language_info": {
   "codemirror_mode": {
    "name": "ipython",
    "version": 2
   },
   "file_extension": ".py",
   "mimetype": "text/x-python",
   "name": "python",
   "nbconvert_exporter": "python",
   "pygments_lexer": "ipython2",
   "version": "2.7.11"
  }
 },
 "nbformat": 4,
 "nbformat_minor": 0
}
