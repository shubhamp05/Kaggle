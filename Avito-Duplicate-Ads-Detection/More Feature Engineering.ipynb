{
 "cells": [
  {
   "cell_type": "markdown",
   "metadata": {},
   "source": [
    "_author_ = https://www.kaggle.com\\shubhamp05"
   ]
  },
  {
   "cell_type": "code",
   "execution_count": 2,
   "metadata": {
    "collapsed": true
   },
   "outputs": [],
   "source": [
    "import numpy as np\n",
    "import pandas as pd\n",
    "import datetime\n",
    "from sklearn.ensemble import GradientBoostingClassifier\n",
    "from sklearn.ensemble import ExtraTreesClassifier\n",
    "from sklearn.metrics import roc_auc_score\n",
    "from sklearn.cross_validation import train_test_split"
   ]
  },
  {
   "cell_type": "code",
   "execution_count": 53,
   "metadata": {
    "collapsed": false
   },
   "outputs": [],
   "source": [
    "def prep_train_test(df_info,df_pairs,category,location):\n",
    "    # Joining info_train with category and location\n",
    "    \n",
    "    itemid_1 = pd.merge(df_info,category,how='left', on = 'categoryID')\n",
    "    itemid_1 = pd.merge(itemid_1,location,how='left', on = 'locationID')\n",
    "    \n",
    "    #merging train_pairs with itemid_1 joining on itemID_1\n",
    "    \n",
    "    df = pd.merge(df_pairs,itemid_1,how='left',left_on='itemID_1',right_on='itemID')\n",
    "    \n",
    "    ## Dropping irrelevant columns\n",
    "    if 'generationMethod' in df.columns:\n",
    "        df.drop(['generationMethod','itemID','images_array'],axis = 1,inplace = True)\n",
    "    else:\n",
    "        df.drop(['itemID','images_array'],axis = 1,inplace = True)\n",
    "    ## Changing column names to more familier coz I hv to merge once more time on item_ID2\n",
    "    df.rename(columns = {'categoryID':'categoryID_1',\n",
    "                         'title':'title_1',\n",
    "                         'description':'description_1',\n",
    "                         'attrsJSON':'attrsJSON_1',\n",
    "                         'price':'price_1',\n",
    "                         'locationID':'locationID_1',\n",
    "                         'metroID':'metroID_1',\n",
    "                          'lat':'lat_1',\n",
    "                          'lon':'lon_1',\n",
    "                          'parentCategoryID':'parentCategoryID_1',\n",
    "                          'regionID':'regionID_1'},inplace = True)\n",
    "    \n",
    "    ## Merging itemid_1 from above to df\n",
    "    df = pd.merge(df,itemid_1,left_on='itemID_2',right_on='itemID',how='left')\n",
    "    \n",
    "    ## Changing column names for itemID_2\n",
    "    df.rename(columns = {'categoryID':'categoryID_2',\n",
    "                         'title':'title_2',\n",
    "                         'description':'description_2',\n",
    "                         'attrsJSON':'attrsJSON_2',\n",
    "                         'price':'price_2',\n",
    "                         'locationID':'locationID_2',\n",
    "                         'metroID':'metroID_2',\n",
    "                          'lat':'lat_2',\n",
    "                          'lon':'lon_2',\n",
    "                          'parentCategoryID':'parentCategoryID_2',\n",
    "                          'regionID':'regionID_2'},inplace = True)\n",
    "    \n",
    "    ## Dropping columns\n",
    "    if 'id' in df.columns:\n",
    "        df.drop(['id','itemID','images_array'],axis = 1,inplace = True)\n",
    "    else:\n",
    "        df.drop(['itemID','images_array'],axis = 1,inplace = True)\n",
    "    \n",
    "    return(df)"
   ]
  },
  {
   "cell_type": "code",
   "execution_count": 50,
   "metadata": {
    "collapsed": false
   },
   "outputs": [],
   "source": [
    "## Loading all necessary .csv files from the input location\n",
    "item_info_train = pd.read_csv('ItemInfo_train.csv/ItemInfo_train.csv')\n",
    "item_pairs_train = pd.read_csv('ItemPairs_train.csv/ItemPairs_train.csv')\n",
    "item_info_test = pd.read_csv('ItemInfo_test.csv/ItemInfo_test.csv')\n",
    "item_pairs_test  = pd.read_csv('ItemPairs_test.csv/ItemPairs_test.csv')\n",
    "category = pd.read_csv('Category.csv/Category.csv')\n",
    "location  = pd.read_csv('Location.csv/Location.csv')\n",
    "\n",
    "## Filling missing values\n",
    "\n",
    "item_info_train.fillna(value=-1,inplace=True)\n",
    "item_info_test.fillna(value=-1,inplace=True)"
   ]
  },
  {
   "cell_type": "code",
   "execution_count": 61,
   "metadata": {
    "collapsed": false
   },
   "outputs": [
    {
     "data": {
      "text/plain": [
       "itemID_1            0\n",
       "itemID_2            0\n",
       "isDuplicate         0\n",
       "generationMethod    0\n",
       "dtype: int64"
      ]
     },
     "execution_count": 61,
     "metadata": {},
     "output_type": "execute_result"
    }
   ],
   "source": []
  },
  {
   "cell_type": "code",
   "execution_count": 55,
   "metadata": {
    "collapsed": false
   },
   "outputs": [
    {
     "data": {
      "text/plain": [
       "Index([u'itemID_1', u'itemID_2', u'isDuplicate', u'categoryID_1', u'title_1',\n",
       "       u'description_1', u'attrsJSON_1', u'price_1', u'locationID_1',\n",
       "       u'metroID_1', u'lat_1', u'lon_1', u'parentCategoryID_1', u'regionID_1',\n",
       "       u'categoryID_2', u'title_2', u'description_2', u'attrsJSON_2',\n",
       "       u'price_2', u'locationID_2', u'metroID_2', u'lat_2', u'lon_2',\n",
       "       u'parentCategoryID_2', u'regionID_2'],\n",
       "      dtype='object')"
      ]
     },
     "execution_count": 55,
     "metadata": {},
     "output_type": "execute_result"
    }
   ],
   "source": [
    "tr.columns"
   ]
  },
  {
   "cell_type": "code",
   "execution_count": null,
   "metadata": {
    "collapsed": true
   },
   "outputs": [],
   "source": [
    "def creating_features():\n",
    "    train = prep_train_test(item_info_train,item_pairs_train,category,location)\n",
    "    test  = prep_train_test(item_info_test,item_pairs_test,category,location)\n",
    "    \n",
    "## Creating features that are same to both the items like my goal is to compare equal things and set it as 1 else 0\n",
    "    \n",
    "    # features of train & test\n",
    "    \n",
    "    train['title_equal'] = np.equal(train.title_1,train.title_2).astype(int)\n",
    "    train['description_equal'] = np.equal(train.description_1,train.description_2).astype(int)\n",
    "    train['attrsJSON_equal'] = np.equal(train.attrsJSON_1,train.attrsJSON_2).astype(int)\n",
    "    train['price_equal'] = np.equal(train.price_1,train.price_2).astype(int)\n",
    "    train['locationID_equal'] = np.equal(train.locationID_1,train.locationID_2).astype(int)\n",
    "    train['metroID_equal'] = np.equal(train.metroID_1,train.metroID_2).astype(int)\n",
    "    train['lat_equal'] = np.equal(train.lat_1,train.lat_2).astype(int)\n",
    "    train['lon_equal'] = np.equal(train.lon_1,train.lon_2).astype(int)\n",
    "    train['category_equal'] = np.equal(train.categoryID_1,train.categoryID_2).astype(int)\n",
    "    train['category_equal'] = np.equal(train.categoryID_1,train.categoryID_2).astype(int)\n",
    "    test['title_equal'] = np.equal(test.title_1,test.title_2).astype(int)\n",
    "    test['description_equal'] = np.equal(test.description_1,test.description_2).astype(int)\n",
    "    test['attrsJSON_equal'] = np.equal(test.attrsJSON_1,test.attrsJSON_2).astype(int)\n",
    "    test['price_equal'] = np.equal(test.price_1,test.price_2).astype(int)\n",
    "    test['locationID_equal'] = np.equal(test.locationID_1,test.locationID_2).astype(int)\n",
    "    test['metroID_equal'] = np.equal(test.metroID_1,test.metroID_2).astype(int)\n",
    "    test['lat_equal'] = np.equal(test.lat_1,test.lat_2).astype(int)\n",
    "    test['lon_equal'] = np.equal(test.lon_1,test.lon_2).astype(int)\n",
    "    test['category_equal'] = np.equal(test.categoryID_1,test.categoryID_2).astype(int)\n",
    "    test['category_equal'] = np.equal(test.categoryID_1,test.categoryID_2).astype(int)\n",
    "    \n",
    "    "
   ]
  },
  {
   "cell_type": "code",
   "execution_count": 57,
   "metadata": {
    "collapsed": false
   },
   "outputs": [
    {
     "data": {
      "text/plain": [
       "0          1\n",
       "1          0\n",
       "2          0\n",
       "3          0\n",
       "4          0\n",
       "5          0\n",
       "6          1\n",
       "7          1\n",
       "8          0\n",
       "9          0\n",
       "10         0\n",
       "11         0\n",
       "12         0\n",
       "13         0\n",
       "14         0\n",
       "15         0\n",
       "16         0\n",
       "17         0\n",
       "18         0\n",
       "19         0\n",
       "20         1\n",
       "21         0\n",
       "22         0\n",
       "23         0\n",
       "24         0\n",
       "25         0\n",
       "26         0\n",
       "27         0\n",
       "28         0\n",
       "29         0\n",
       "          ..\n",
       "2991366    0\n",
       "2991367    0\n",
       "2991368    0\n",
       "2991369    0\n",
       "2991370    0\n",
       "2991371    0\n",
       "2991372    1\n",
       "2991373    0\n",
       "2991374    0\n",
       "2991375    0\n",
       "2991376    0\n",
       "2991377    0\n",
       "2991378    0\n",
       "2991379    1\n",
       "2991380    0\n",
       "2991381    0\n",
       "2991382    0\n",
       "2991383    0\n",
       "2991384    0\n",
       "2991385    0\n",
       "2991386    0\n",
       "2991387    0\n",
       "2991388    1\n",
       "2991389    0\n",
       "2991390    0\n",
       "2991391    1\n",
       "2991392    0\n",
       "2991393    0\n",
       "2991394    1\n",
       "2991395    0\n",
       "Name: title_1, dtype: int32"
      ]
     },
     "execution_count": 57,
     "metadata": {},
     "output_type": "execute_result"
    }
   ],
   "source": [
    "np.equal(tr.title_1,tr.title_2).astype(int)"
   ]
  },
  {
   "cell_type": "code",
   "execution_count": null,
   "metadata": {
    "collapsed": true
   },
   "outputs": [],
   "source": []
  },
  {
   "cell_type": "code",
   "execution_count": null,
   "metadata": {
    "collapsed": true
   },
   "outputs": [],
   "source": []
  },
  {
   "cell_type": "code",
   "execution_count": null,
   "metadata": {
    "collapsed": true
   },
   "outputs": [],
   "source": []
  },
  {
   "cell_type": "code",
   "execution_count": null,
   "metadata": {
    "collapsed": true
   },
   "outputs": [],
   "source": []
  }
 ],
 "metadata": {
  "anaconda-cloud": {},
  "kernelspec": {
   "display_name": "Python [Root]",
   "language": "python",
   "name": "Python [Root]"
  },
  "language_info": {
   "codemirror_mode": {
    "name": "ipython",
    "version": 2
   },
   "file_extension": ".py",
   "mimetype": "text/x-python",
   "name": "python",
   "nbconvert_exporter": "python",
   "pygments_lexer": "ipython2",
   "version": "2.7.11"
  }
 },
 "nbformat": 4,
 "nbformat_minor": 0
}
